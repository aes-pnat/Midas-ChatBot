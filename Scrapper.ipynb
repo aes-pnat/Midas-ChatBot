{
 "cells": [
  {
   "cell_type": "code",
   "execution_count": null,
   "metadata": {},
   "outputs": [],
   "source": [
    "import pickle\n",
    "import tools.prawCrypt as pc\n",
    "from getpass import getpass\n",
    "import praw\n",
    "import nltk"
   ]
  }
 ],
 "metadata": {
  "language_info": {
   "name": "python"
  }
 },
 "nbformat": 4,
 "nbformat_minor": 2
}
