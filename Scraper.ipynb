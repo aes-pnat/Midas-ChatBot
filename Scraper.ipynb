{
 "cells": [
  {
   "cell_type": "code",
   "execution_count": 1,
   "metadata": {},
   "outputs": [],
   "source": [
    "import pickle\n",
    "import tools.prawCrypt as pc\n",
    "from getpass import getpass\n",
    "import praw\n",
    "import pandas as pd"
   ]
  },
  {
   "cell_type": "code",
   "execution_count": 2,
   "metadata": {},
   "outputs": [],
   "source": [
    "with open('./tools/encrypted_values.pkl', 'rb') as file:\n",
    "        encrypted_values = pickle.load(file)\n",
    "\n",
    "password = getpass(\"Enter password: \")\n",
    "\n",
    "reddit_client_ID = pc.decrypt(encrypted_values['reddit_client_ID'], password)\n",
    "reddit_secret_token = pc.decrypt(encrypted_values['reddit_secret_token'], password)\n",
    "reddit_usernName = pc.decrypt(encrypted_values['reddit_usernName'], password)\n",
    "reddit_password = pc.decrypt(encrypted_values['reddit_password'], password)\n",
    "\n",
    "reddit = praw.Reddit(\n",
    "    client_id=reddit_client_ID,\n",
    "    client_secret=reddit_secret_token,\n",
    "    user_agent='MidasChatBot',\n",
    "    username=reddit_usernName,\n",
    "    password=reddit_password\n",
    "    )"
   ]
  },
  {
   "cell_type": "code",
   "execution_count": 3,
   "metadata": {},
   "outputs": [
    {
     "name": "stdout",
     "output_type": "stream",
     "text": [
      "Weekend Discussion Thread for the Weekend of January 27, 2024\n",
      "# Come hang with us on [Discord](https://discord.gg/wsbverse)\n",
      "\n",
      "Check our [Earnings Thread](https://reddit.com/r/wallstreetbets/about/sticky?num=2) and [Rules](https://www.reddit.com/r/wallstreetbets/wiki/contentguide). DM the [mod inbox](https://www.reddit.com/message/compose/?to=/r/wallstreetbets)\n",
      "<praw.models.comment_forest.CommentForest object at 0x7f71ed2fe8d0>\n",
      "[Comment(id='kjpp48z'), Comment(id='kjps3wo'), Comment(id='kjpsd4d'), Comment(id='kjpxxh9'), Comment(id='kjq8ntf'), Comment(id='kjvkz37'), Comment(id='kjprk2o'), Comment(id='kjpomd6'), Comment(id='kjpqr4q'), Comment(id='kjps6t3'), Comment(id='kjptxuj'), Comment(id='kjq779z'), Comment(id='kjpscjx'), Comment(id='kjt3ebu'), Comment(id='kjpsd27'), Comment(id='kjq8v67'), Comment(id='kjqfjk2'), Comment(id='kjtexd3'), Comment(id='kjvm3rl'), Comment(id='kjpq47j'), Comment(id='kjqa0xe'), Comment(id='kjqwrpp'), Comment(id='kjqxsll'), Comment(id='kjt4tzm'), Comment(id='kjpp8n8'), Comment(id='kjpqw5t'), Comment(id='kjrkky9'), Comment(id='kjsx96g'), Comment(id='kjt37t4'), Comment(id='kjvnkvr'), Comment(id='kjvtncn'), Comment(id='kjw5uq0'), Comment(id='kjyjo2l'), Comment(id='kjrbbrd'), Comment(id='kjpuj83'), Comment(id='kjpr82b'), Comment(id='kjpspx5'), Comment(id='kjpym8s'), Comment(id='kjpzzor'), Comment(id='kjqab2e'), Comment(id='kjqokon'), Comment(id='kjqzcgf'), Comment(id='kjrdlnt'), Comment(id='kjrrnz1'), Comment(id='kjs03jv'), Comment(id='kjv2jmm'), Comment(id='kjyebwd'), Comment(id='kjpqzb8'), Comment(id='kjprird'), Comment(id='kjqgkzx'), Comment(id='kjqjwb1'), Comment(id='kjqn2ud'), Comment(id='kjqnq05'), Comment(id='kjqvkc6'), Comment(id='kjrd28x'), Comment(id='kjrdp17'), Comment(id='kjrfe85'), Comment(id='kjrgv8m'), Comment(id='kjrqhzq'), Comment(id='kjt04bn'), Comment(id='kjtejnu'), Comment(id='kju7y83'), Comment(id='kjufe2w'), Comment(id='kjulzga'), Comment(id='kjuz6up'), Comment(id='kjvljsz'), Comment(id='kjvrm2g'), Comment(id='kjvsdiy'), Comment(id='kjx9gut'), Comment(id='kjygrv3'), Comment(id='kjptn7e'), Comment(id='kjpwukw'), Comment(id='kjq6vxh'), Comment(id='kjqax9s'), Comment(id='kjqk7pj'), Comment(id='kjqp5ar'), Comment(id='kjqppn6'), Comment(id='kjqva4e'), Comment(id='kjr72fc'), Comment(id='kjrexdx'), Comment(id='kjrku4f'), Comment(id='kjrrtr2'), Comment(id='kjt1kxd'), Comment(id='kjt5f5t'), Comment(id='kjtipk3'), Comment(id='kju61ns'), Comment(id='kjuzgzu'), Comment(id='kjvc79w'), Comment(id='kjvkmud'), Comment(id='kjvpmzg'), Comment(id='kjvrs3c'), Comment(id='kjvum3j'), Comment(id='kjwv25a'), Comment(id='kjy6ulr'), Comment(id='kjycp4h'), Comment(id='kjyd291'), Comment(id='kjyd3bc'), Comment(id='kjygwcs'), Comment(id='kjpyarm'), Comment(id='kjpondu'), Comment(id='kjpp4q4'), Comment(id='kjppxtf'), Comment(id='kjps9ip'), Comment(id='kjpsbxu'), Comment(id='kjptuz9'), Comment(id='kjpw2ib'), Comment(id='kjq23id'), Comment(id='kjq8a3l'), Comment(id='kjq9lc6'), Comment(id='kjquur6'), Comment(id='kjrlm9z'), Comment(id='kjt0l48'), Comment(id='kjtjsm5'), Comment(id='kjtnsz9'), Comment(id='kju8dfd'), Comment(id='kjuhxzf'), Comment(id='kjv9jye'), Comment(id='kjvyf3k'), Comment(id='kjw36fp'), Comment(id='kjw9y4y'), Comment(id='kjwxmqb'), Comment(id='kjx095u'), Comment(id='kjxcbes'), Comment(id='kjxjhxs'), Comment(id='kjxjs6k'), Comment(id='kjxv2am'), Comment(id='kjy78wf'), Comment(id='kjyavkz'), Comment(id='kjyesyq'), Comment(id='kjyhyap'), Comment(id='kjynh5g'), Comment(id='kjpov4v'), Comment(id='kjvvef3'), Comment(id='kjptc0y'), Comment(id='kjpw9cw'), Comment(id='kjpzw7i'), Comment(id='kjq1z8t'), Comment(id='kjqa1um'), Comment(id='kjqathu'), Comment(id='kjqd8xy'), Comment(id='kjqia7a'), Comment(id='kjqjf2x'), Comment(id='kjqkdsp'), Comment(id='kjqkf8u'), Comment(id='kjqmjvw'), Comment(id='kjqv5jm'), Comment(id='kjqvoe6'), Comment(id='kjr3937'), Comment(id='kjr44h7'), Comment(id='kjr4zkp'), Comment(id='kjr503l'), Comment(id='kjr92lu'), Comment(id='kjrcqtf'), Comment(id='kjrhzux'), Comment(id='kjri5g0'), Comment(id='kjrjjjx'), Comment(id='kjrjq6a'), Comment(id='kjrzwrb'), Comment(id='kjschyr'), Comment(id='kjsk6r8'), Comment(id='kjssj3k'), Comment(id='kjt753x'), Comment(id='kjtoliv'), Comment(id='kjtyyf2'), Comment(id='kju54nj'), Comment(id='kju72zg'), Comment(id='kjuc9ph'), Comment(id='kjulfoi'), Comment(id='kjun5lg'), Comment(id='kjuyz6s'), Comment(id='kjvb8ck'), Comment(id='kjvftuf'), Comment(id='kjvgrpy'), Comment(id='kjvjz60'), Comment(id='kjvp8cs'), Comment(id='kjvpavj'), Comment(id='kjvykzy'), Comment(id='kjw0h3c'), Comment(id='kjw1ijb'), Comment(id='kjw3jcz'), Comment(id='kjw893s'), Comment(id='kjw9h6v'), Comment(id='kjw9q7e'), Comment(id='kjwdfto'), Comment(id='kjwfokx'), Comment(id='kjwlnjl'), Comment(id='kjwtlxm'), Comment(id='kjx6fkd'), Comment(id='kjx6qgn'), Comment(id='kjx79dx'), Comment(id='kjxbw3l'), Comment(id='kjxjr3o'), Comment(id='kjxsjhr'), Comment(id='kjxtjbq'), Comment(id='kjyhkmf'), Comment(id='kjyij7g'), Comment(id='kjyka6w'), Comment(id='kjpoo3p'), Comment(id='kjpq00p'), Comment(id='kjqqlkp'), Comment(id='kjxgwjg'), Comment(id='kjpp101'), Comment(id='kjpp2kt'), Comment(id='kjpq5od'), Comment(id='kjpqktp'), Comment(id='kjpqlhk'), Comment(id='kjprsx6'), Comment(id='kjprtup'), Comment(id='kjpu2y0'), Comment(id='kjpx66q'), Comment(id='kjpy7dw'), Comment(id='kjpylr7'), Comment(id='kjpzb1u'), Comment(id='kjpzteu'), Comment(id='kjq08j9'), Comment(id='kjq12h2'), Comment(id='kjq2vqg'), Comment(id='kjq3bdk'), Comment(id='kjq4pr7'), Comment(id='kjq6f8g'), Comment(id='kjq7vmi'), Comment(id='kjqc4p3'), Comment(id='kjqc6lh'), Comment(id='kjqdj29'), Comment(id='kjqflli'), Comment(id='kjqhmuj'), Comment(id='kjqjy49'), Comment(id='kjqkh7x'), Comment(id='kjqkosv'), Comment(id='kjqkx6s'), Comment(id='kjqlak4'), Comment(id='kjqm05m'), Comment(id='kjqpbp2'), Comment(id='kjqtjit'), Comment(id='kjquxbj'), Comment(id='kjqvcpf'), Comment(id='kjr214g'), Comment(id='kjr6qrv'), Comment(id='kjr7xd4'), Comment(id='kjr8bd4'), Comment(id='kjrbxl9'), Comment(id='kjrc5lv'), Comment(id='kjrclwc'), Comment(id='kjrczcr'), Comment(id='kjregfa'), Comment(id='kjrej3l'), Comment(id='kjrgcc9'), Comment(id='kjrgont'), Comment(id='kjri6v7'), Comment(id='kjrivhc'), Comment(id='kjrjsgk'), Comment(id='kjrjv6a'), Comment(id='kjrmz7y'), Comment(id='kjrqg9z'), Comment(id='kjrrwzt'), Comment(id='kjsedqs'), Comment(id='kjspbl3'), Comment(id='kjt3nz9'), Comment(id='kjt9686'), Comment(id='kjtaedp'), Comment(id='kjtaq2s'), Comment(id='kjtat36'), Comment(id='kjthhk9'), Comment(id='kjthpuw'), Comment(id='kjtmptt'), Comment(id='kjtpgfn'), Comment(id='kjtrmfk'), Comment(id='kjtsl8d'), Comment(id='kjtym3l'), Comment(id='kju2991'), Comment(id='kju4lxx'), Comment(id='kju65e6'), Comment(id='kju69f9'), Comment(id='kju6id3'), Comment(id='kju70gy'), Comment(id='kju8nok'), Comment(id='kjuls6i'), Comment(id='kjumu2a'), Comment(id='kjunewv'), Comment(id='kjuoqrl'), Comment(id='kjup2fc'), Comment(id='kjupfux'), Comment(id='kjuq3z2'), Comment(id='kjuq74r'), Comment(id='kjuqd1c'), Comment(id='kjutcig'), Comment(id='kjuv97c'), Comment(id='kjuxmpg'), Comment(id='kjuxufj'), Comment(id='kjuxy2h'), Comment(id='kjuyd0s'), Comment(id='kjv6mjo'), Comment(id='kjv9gvi'), Comment(id='kjvbs54'), Comment(id='kjvcje0'), Comment(id='kjve0b8'), Comment(id='kjvg3g7'), Comment(id='kjvio4o'), Comment(id='kjviydm'), Comment(id='kjvk9bf'), Comment(id='kjvlnsa'), Comment(id='kjvmb92'), Comment(id='kjvqifa'), Comment(id='kjvr8de'), Comment(id='kjvssi2'), Comment(id='kjw0r0n'), Comment(id='kjw111f'), Comment(id='kjw26qw'), Comment(id='kjw2sig'), Comment(id='kjw6f3f'), Comment(id='kjw8fcj'), Comment(id='kjwdccn'), Comment(id='kjwe3fz'), Comment(id='kjwfjxs'), Comment(id='kjwl89p'), Comment(id='kjwlt9z'), Comment(id='kjwlzsd'), Comment(id='kjwq9e7'), Comment(id='kjwqaxo'), Comment(id='kjwswqq'), Comment(id='kjwt1qv'), Comment(id='kjwtg0x'), Comment(id='kjwub7k'), Comment(id='kjwye8m'), Comment(id='kjwyjtx'), Comment(id='kjwyyh5'), Comment(id='kjwzvbq'), Comment(id='kjx2a8q'), Comment(id='kjx4gs5'), Comment(id='kjx590g'), Comment(id='kjx771o'), Comment(id='kjx81xc'), Comment(id='kjxbzz2'), Comment(id='kjxgcvm'), Comment(id='kjxtcqj'), Comment(id='kjy22yh'), Comment(id='kjy2z86'), Comment(id='kjy34hg'), Comment(id='kjy66wt'), Comment(id='kjya6ad'), Comment(id='kjyd5ru'), Comment(id='kjydnt6'), Comment(id='kjyhj0j'), Comment(id='kjyikvh'), Comment(id='kjqg4dt'), Comment(id='kjqi1pp'), Comment(id='kjrkau6'), Comment(id='kjtu6ec'), Comment(id='kjxr5ti'), Comment(id='kjy8brb'), Comment(id='kjq88g9'), Comment(id='kjukffi'), Comment(id='kjvoqh4'), Comment(id='kjpr0oh'), Comment(id='kjprvlq'), Comment(id='kjps34q'), Comment(id='kjps6dp'), Comment(id='kjpsb9h'), Comment(id='kjpsbo0'), Comment(id='kjpsz8y'), Comment(id='kjpszqr'), Comment(id='kjpt2yy'), Comment(id='kjpupbp'), Comment(id='kjpwaeu'), Comment(id='kjq0hae'), Comment(id='kjq0wu9'), Comment(id='kjq17xj'), Comment(id='kjq2uov'), Comment(id='kjq3p7l'), Comment(id='kjq65aj'), Comment(id='kjq78kb'), Comment(id='kjq8llw'), Comment(id='kjq8xgy'), Comment(id='kjq969z'), Comment(id='kjq9e7i'), Comment(id='kjqasyd'), Comment(id='kjqckjc'), Comment(id='kjqg7ev'), Comment(id='kjqh1of'), Comment(id='kjqhjb6'), Comment(id='kjqhn6l'), Comment(id='kjqje2x'), Comment(id='kjqjo3q'), Comment(id='kjqk7b4'), Comment(id='kjqka3s'), Comment(id='kjqlrdr'), Comment(id='kjqnjug'), Comment(id='kjqnpg1'), Comment(id='kjqnt6s'), Comment(id='kjqnvsc'), Comment(id='kjqp18w'), Comment(id='kjqpmkt'), Comment(id='kjqpu3x'), Comment(id='kjqrjyi'), Comment(id='kjqron9'), Comment(id='kjqrove'), Comment(id='kjqsedw'), Comment(id='kjqucrx'), Comment(id='kjqw76c'), Comment(id='kjqx1xp'), Comment(id='kjqzrpq'), Comment(id='kjr1ala'), Comment(id='kjr1m34'), Comment(id='kjr1z2q'), Comment(id='kjr53jz'), Comment(id='kjr5dp4'), Comment(id='kjr6qid'), Comment(id='kjr7vsf'), Comment(id='kjr9m63'), Comment(id='kjra0d6'), Comment(id='kjravsk'), Comment(id='kjrc8n6'), Comment(id='kjrcs0h'), Comment(id='kjrcy3t'), Comment(id='kjrdixx'), Comment(id='kjrldww'), Comment(id='kjrnlk8'), Comment(id='kjrq85a'), Comment(id='kjrqwbk'), Comment(id='kjrv1lg'), Comment(id='kjs0iml'), Comment(id='kjs7uia'), Comment(id='kjsdt53'), Comment(id='kjssfxq'), Comment(id='kjsyybt'), Comment(id='kjt0olo'), Comment(id='kjt1d1v'), Comment(id='kjt340l'), Comment(id='kjt3vj8'), Comment(id='kjt9w6j'), Comment(id='kjtbbwm'), Comment(id='kjtcbev'), Comment(id='kjth1uq'), Comment(id='kjtiky0'), Comment(id='kjtmknw'), Comment(id='kjtnjy8'), <MoreComments count=7158, children=['kjtnwdq', 'kjtoeb9', 'kjtoz9u', '...']>, Comment(id='kjpp9qt'), <MoreComments count=1, children=['kjpuwfg']>, Comment(id='kjpugax'), <MoreComments count=2, children=['kjpv6le']>, <MoreComments count=1, children=['kjq94ui']>, <MoreComments count=6, children=['kjvmb25', 'kjvlvs4', 'kjvl1ee', '...']>, Comment(id='kjprqdp'), <MoreComments count=3, children=['kjps3a8', 'kjpvh14', 'kjqa73n']>, Comment(id='kjpood4'), Comment(id='kjprj2b'), <MoreComments count=3, children=['kjpsi9i', 'kjqwqgk', 'kjpvku7']>, <MoreComments count=2, children=['kjpus64', 'kjpvfx6']>, Comment(id='kjq7k7d'), Comment(id='kjq84ih'), <MoreComments count=7, children=['kjq89mb', 'kjq7hfq', 'kjq82mu', '...']>, Comment(id='kjpsxmi'), Comment(id='kjpt1mr'), <MoreComments count=6, children=['kjptl1j', 'kjpuftq']>, Comment(id='kjt3g8n'), Comment(id='kjt3zey'), <MoreComments count=3, children=['kjpvnw4', 'kjptlxz']>, Comment(id='kjq8zt7'), <MoreComments count=3, children=['kjqjkjn', 'kjt4lut', 'kjqfr9q']>, <MoreComments count=7, children=['kjtfl9n', 'kjtfjdi', 'kjth6j1', '...']>, Comment(id='kjvmjms'), <MoreComments count=1, children=['kju3s5v']>, Comment(id='kjqab08'), <MoreComments count=2, children=['kjqdm7u']>, <MoreComments count=1, children=['kjwpanw']>, <MoreComments count=2, children=['kjrtmgc']>, <MoreComments count=2, children=['kjt7jis', 'kjt7f7s']>, <MoreComments count=2, children=['kjpsomg', 'kjwnkdf']>, <MoreComments count=1, children=['kjrl33i']>, <MoreComments count=2, children=['kjsxutd']>, <MoreComments count=1, children=['kjvojnl']>, <MoreComments count=5, children=['kjvud2q', 'kjvvnoz', 'kjvuzmt', '...']>, <MoreComments count=20, children=['kjw6k0h', 'kjw6c99', 'kjw5zc4', '...']>, Comment(id='kjpv2dz'), Comment(id='kjprpyz'), <MoreComments count=4, children=['kjptbwg', 'kjpwb97']>, <MoreComments count=1, children=['kjqax31']>, <MoreComments count=3, children=['kjq05si', 'kjq0ni6']>, <MoreComments count=1, children=['kjqaw9i']>, Comment(id='kjqooqa'), Comment(id='kjqoxew'), <MoreComments count=5, children=['kjqoytt', 'kjqoumw', 'kjqox07']>, <MoreComments count=4, children=['kjqzmsn', 'kjqzvkt', 'kjqzhhf']>, <MoreComments count=3, children=['kjre1ir']>, <MoreComments count=2, children=['kjrrw0i', 'kjrrywg']>, <MoreComments count=1, children=['kjs145c']>, <MoreComments count=1, children=['kjv3a3m']>, <MoreComments count=6, children=['kjq23pk', 'kjps2b6']>, <MoreComments count=3, children=['kjqmeph', 'kjqh5i9', 'kjqh3pt']>, Comment(id='kjqm4oi'), <MoreComments count=1, children=['kjqjz2r']>, <MoreComments count=8, children=['kjqo68t', 'kjqo66r', 'kjqt87y', '...']>, <MoreComments count=3, children=['kjqoc7f', 'kjqp4lj']>, <MoreComments count=2, children=['kjqw0gj']>, <MoreComments count=4, children=['kjrd6c7', 'kjrdroe']>, Comment(id='kjre423'), <MoreComments count=13, children=['kjre1s8', 'kjreqkg', 'kjrewrl', '...']>, <MoreComments count=1, children=['kjrhdp4']>, Comment(id='kjrqpac'), <MoreComments count=9, children=['kjrqp1s', 'kjrvw1i', 'kjrqrht', '...']>, <MoreComments count=1, children=['kjt7ti0']>, <MoreComments count=9, children=['kjtetuz', 'kjtgrxu']>, <MoreComments count=2, children=['kju8040', 'kju82i4']>, <MoreComments count=7, children=['kjugfpb', 'kjug6t1', 'kjughnn', 'kjufz4x']>, Comment(id='kjum2nl'), Comment(id='kjuzdji'), <MoreComments count=9, children=['kjuzdmm', 'kjuzccc', 'kjv1efe', '...']>, <MoreComments count=4, children=['kjvlrb9', 'kjvlmfa', 'kjvllh4', 'kjvlxbn']>, <MoreComments count=2, children=['kjvro6k']>, <MoreComments count=3, children=['kjvzg89']>, <MoreComments count=1, children=['kjx9rst']>, <MoreComments count=2, children=['kjptxmy', 'kjpvhzy']>, <MoreComments count=4, children=['kjq7o1m', 'kjq7640', 'kjq8xbh', 'kjq90es']>, <MoreComments count=2, children=['kjqbpff']>, <MoreComments count=2, children=['kjqkeku', 'kjqo4g2']>, <MoreComments count=5, children=['kjqpa2j']>, <MoreComments count=2, children=['kjqvcj1', 'kjqvwc7']>, <MoreComments count=3, children=['kjr8p88', 'kjr7ony', 'kjr7jv0']>, <MoreComments count=5, children=['kjrl1oq', 'kjrlf6s']>, <MoreComments count=3, children=['kjrtcll', 'kjrsghx', 'kjrxuyw']>, <MoreComments count=3, children=['kjt1zbc', 'kjt1x0o']>, <MoreComments count=1, children=['kjt94c3']>, <MoreComments count=13, children=['kjtjh9x', 'kjtot3b', 'kjtj9hh', '...']>, <MoreComments count=1, children=['kju66lx']>, Comment(id='kjuzkvq'), <MoreComments count=2, children=['kjuzntw']>, <MoreComments count=4, children=['kjvq0hj', 'kjvpv97', 'kjvq03n']>, <MoreComments count=6, children=['kjvsg0a', 'kjvsl6o', 'kjvszhb', 'kjvsu75']>, <MoreComments count=14, children=['kjvuwbi', 'kjvw6ig', 'kjvuv1g', 'kjvv0yj']>, <MoreComments count=2, children=['kjwvihg', 'kjwxsnv']>, <MoreComments count=4, children=['kjy7ycf', 'kjyas1i']>, <MoreComments count=2, children=['kjyh5o7', 'kjyjwtb']>, Comment(id='kjpypfx'), <MoreComments count=4, children=['kjq2icf', 'kjpzbjc', 'kjtwtua', 'kjpzfbr']>, <MoreComments count=1, children=['kjpp5nl']>, <MoreComments count=3, children=['kjpqyho']>, <MoreComments count=2, children=['kjpsvpx']>, <MoreComments count=8, children=['kjpu864', 'kjpv3a5', 'kjpueap']>, Comment(id='kjq8d8g'), <MoreComments count=9, children=['kjq8f3b', 'kjq8fy4', 'kjq8eoc', 'kjqb35v']>, <MoreComments count=2, children=['kjqac4t', 'kjqaa7x']>, <MoreComments count=9, children=['kjquxeu', 'kjqv8eb']>, <MoreComments count=2, children=['kjronoy', 'kjrm3sy']>, <MoreComments count=14, children=['kjt0oof', 'kjt0umr', 'kjt0we9']>, <MoreComments count=1, children=['kjtk1pu']>, <MoreComments count=11, children=['kjtnyo4', 'kjtph49', 'kjto3sq']>, <MoreComments count=1, children=['kju9pj1']>, <MoreComments count=2, children=['kjui485', 'kjuil3q']>, <MoreComments count=4, children=['kjv9qpb', 'kjvbbuy', 'kjv9r2q', 'kjvbnsm']>, <MoreComments count=16, children=['kjvz624', 'kjvzayo', 'kjvyo05', '...']>, <MoreComments count=1, children=['kjwa365']>, Comment(id='kjwxvgq'), <MoreComments count=1, children=['kjwy44k']>, <MoreComments count=1, children=['kjx0ak8']>, Comment(id='kjxl2gt'), <MoreComments count=8, children=['kjxk0aq', 'kjxjzjn']>, <MoreComments count=2, children=['kjxv41w', 'kjxvaax']>, <MoreComments count=7, children=['kjyb22c', 'kjyb728', 'kjybnds', '...']>, <MoreComments count=2, children=['kjyidpz', 'kjyig6k']>, <MoreComments count=6, children=['kjppyc0', 'kjpw3ar']>, <MoreComments count=7, children=['kjvvqv9', 'kjvy538']>, <MoreComments count=4, children=['kjptg81', 'kjpvnq2', 'kjpttvm']>, <MoreComments count=3, children=['kjpym0p', 'kjpx9of', 'kjpydvl']>, <MoreComments count=1, children=['kjq0exx']>, <MoreComments count=2, children=['kjq2ask', 'kjq5kyo']>, Comment(id='kjqaaep'), Comment(id='kjqa6ts'), <MoreComments count=7, children=['kjqbi44', 'kjqby07', 'kjqbj5k', 'kjqabz2']>, <MoreComments count=2, children=['kjqbizn']>, <MoreComments count=3, children=['kjqdjzc', 'kjqdlm3']>, <MoreComments count=6, children=['kjqiqsk', 'kjqj7rp']>, <MoreComments count=4, children=['kjqjnzm', 'kjqjpys']>, <MoreComments count=4, children=['kjqkiqw', 'kjqkxdv']>, <MoreComments count=3, children=['kjql4td']>, <MoreComments count=8, children=['kjqmvpr', 'kjqmuui', 'kjqopem']>, <MoreComments count=2, children=['kjr3lpz', 'kjr3kyp']>, <MoreComments count=2, children=['kjr6kbf', 'kjr4qzo']>, <MoreComments count=5, children=['kjr8bvn', 'kjr53et', 'kjr65mt', 'kjr5v2p']>, <MoreComments count=2, children=['kjr5h5r', 'kjr566k']>, Comment(id='kjr9bag'), Comment(id='kjrcvxe'), <MoreComments count=1, children=['kjrcuk9']>, Comment(id='kjri2yu'), <MoreComments count=6, children=['kjrinui', 'kjri58r', 'kjrkaxd', 'kjri76w']>, <MoreComments count=2, children=['kjrixti']>, <MoreComments count=3, children=['kjrjrpe', 'kjrk5fz']>, <MoreComments count=9, children=['kjrjzqu', 'kjrjxp5']>, <MoreComments count=1, children=['kjs082z']>, <MoreComments count=1, children=['kjsejr3']>, <MoreComments count=3, children=['kjskisp']>, <MoreComments count=1, children=['kjsv2aa']>, <MoreComments count=1, children=['kjt7g1p']>, <MoreComments count=1, children=['kjtounz']>, <MoreComments count=1, children=['kjtz1mh']>, <MoreComments count=6, children=['kju580t', 'kju6mfj', 'kju5kuq', '...']>, <MoreComments count=1, children=['kju7puq']>, <MoreComments count=2, children=['kjudo5k']>, <MoreComments count=3, children=['kjulqdf', 'kjulshi']>, <MoreComments count=2, children=['kjuonqy', 'kjune64']>, <MoreComments count=2, children=['kjuzgv5', 'kjuz7k2']>, Comment(id='kjvb9ry'), <MoreComments count=3, children=['kjvbjrd', 'kjvbwo4']>, <MoreComments count=4, children=['kjvgrkz', 'kjvg4qm']>, <MoreComments count=4, children=['kjvhc7f', 'kjvgvfv', 'kjvgvie', 'kjvgywo']>, <MoreComments count=1, children=['kjvkc66']>, <MoreComments count=3, children=['kjvphl6', 'kjvsfmo']>, <MoreComments count=1, children=['kjvpmre']>, <MoreComments count=3, children=['kjvyvjl', 'kjvzegb', 'kjvzy2b']>, <MoreComments count=8, children=['kjw0s7z', 'kjw0o9y', 'kjw1aub']>, <MoreComments count=2, children=['kjw297v', 'kjw3k9g']>, <MoreComments count=3, children=['kjw3pw5']>, <MoreComments count=1, children=['kjw8c0d']>, <MoreComments count=3, children=['kjwa3u0', 'kjwa9q1', 'kjw9k8z']>, <MoreComments count=4, children=['kjw9whm']>, <MoreComments count=9, children=['kjwdn4i']>, <MoreComments count=2, children=['kjwfrsa', 'kjwfsfb']>, Comment(id='kjwlsnm'), <MoreComments count=1, children=['kjwmy2y']>, <MoreComments count=21, children=['kjx761z', 'kjx74mr', 'kjx6ra5', 'kjx73ap']>, <MoreComments count=2, children=['kjx7mat', 'kjx7db8']>, <MoreComments count=3, children=['kjxjzyq', 'kjxktxm']>, <MoreComments count=1, children=['kjxsjia']>, <MoreComments count=3, children=['kjxtq34', 'kjxtlf5']>, Comment(id='kjyi9q9'), <MoreComments count=3, children=['kjyhpnj', 'kjyhv6v', 'kjyifvj']>, <MoreComments count=5, children=['kjyj560', 'kjyirhz']>, <MoreComments count=1, children=['kjpovk7']>, <MoreComments count=2, children=['kjqqrbs']>, Comment(id='kjxgwjx'), <MoreComments count=1, children=['kjq20jw']>, <MoreComments count=1, children=['kjpr0v8']>, <MoreComments count=1, children=['kjprl48']>, Comment(id='kjps1bj'), <MoreComments count=1, children=['kjps4id']>, <MoreComments count=1, children=['kjpu7ku']>, <MoreComments count=1, children=['kjq4qcn']>, <MoreComments count=2, children=['kjpzvew', 'kjq09o9']>, <MoreComments count=7, children=['kjpzgo9', 'kjpzb35', 'kjpzhvt', 'kjq0x60']>, <MoreComments count=1, children=['kjq0fx4']>, <MoreComments count=3, children=['kjq0ro6', 'kjq0e3g']>, <MoreComments count=8, children=['kjq19u3', 'kjq1hwm', 'kjq4cyi', 'kjq16ys']>, <MoreComments count=3, children=['kjq32n3', 'kjq37wn']>, <MoreComments count=1, children=['kjq3yc5']>, <MoreComments count=5, children=['kjq4vjs', 'kjqf1iv']>, <MoreComments count=2, children=['kjq6l71', 'kjq782x']>, <MoreComments count=1, children=['kjq8d3a']>, <MoreComments count=13, children=['kjqci3w', 'kjqdrqx', 'kjqcehe']>, <MoreComments count=3, children=['kjqc95t', 'kjqcert']>, <MoreComments count=2, children=['kjqf2n0', 'kjqflw8']>, <MoreComments count=6, children=['kjqfs5u']>, <MoreComments count=1, children=['kjqjpgw']>, <MoreComments count=1, children=['kjql1fq']>, <MoreComments count=1, children=['kjql37a']>, <MoreComments count=1, children=['kjqm5ni']>, <MoreComments count=2, children=['kjqudlb']>, <MoreComments count=2, children=['kjqxj05', 'kjqwiki']>, <MoreComments count=2, children=['kjr3ho0']>, <MoreComments count=6, children=['kjr70kh', 'kjr6yyg', 'kjracig']>, Comment(id='kjr84a3'), <MoreComments count=3, children=['kjr82dm', 'kjr80r6', 'kjr8kmw']>, <MoreComments count=2, children=['kjrcovb']>, Comment(id='kjrc91a'), <MoreComments count=6, children=['kjrd0ij', 'kjrd1xo']>, Comment(id='kjrd42i'), <MoreComments count=3, children=['kjrduei', 'kjrd7lr']>, <MoreComments count=1, children=['kjreuk1']>, <MoreComments count=3, children=['kjrex13', 'kjrenzf']>, <MoreComments count=4, children=['kjrgntq', 'kjrgmts']>, Comment(id='kjrianx'), <MoreComments count=1, children=['kjrmktb']>, <MoreComments count=1, children=['kjrjg8f']>, <MoreComments count=1, children=['kjrmab9']>, <MoreComments count=11, children=['kjrk1lr', 'kjrko83', 'kjrkgsh', '...']>, <MoreComments count=1, children=['kjrnlq0']>, <MoreComments count=2, children=['kjrs9s2', 'kjrso8x']>, Comment(id='kjrs1cn'), <MoreComments count=1, children=['kjrv2mn']>, <MoreComments count=2, children=['kjspj85', 'kjsg59e']>, <MoreComments count=4, children=['kjsphm3', 'kjspwph']>, <MoreComments count=4, children=['kjt4eu9']>, <MoreComments count=4, children=['kjtb033', 'kjtdg1f', 'kjtelky']>, <MoreComments count=8, children=['kjti1n9']>, Comment(id='kjthzds'), <MoreComments count=10, children=['kjtmqva', 'kjtnrfq', 'kjtomh1', '...']>, <MoreComments count=1, children=['kjtq0v5']>, <MoreComments count=1, children=['kjtsxz5']>, <MoreComments count=1, children=['kjtsxa2']>, <MoreComments count=7, children=['kju1wqw', 'kjtzoes']>, <MoreComments count=1, children=['kju2hsq']>, <MoreComments count=3, children=['kju4xhm', 'kju4z9b', 'kju6god']>, <MoreComments count=3, children=['kju6f2y']>, <MoreComments count=3, children=['kju6d89', 'kju6lim']>, Comment(id='kju6uk4'), <MoreComments count=4, children=['kju6lmv', 'kju6mm3', 'kju72t5']>, <MoreComments count=4, children=['kjubbp4', 'kju8i4e']>, <MoreComments count=3, children=['kjuluj9']>, <MoreComments count=1, children=['kjuoby0']>, <MoreComments count=1, children=['kjup2ru']>, <MoreComments count=3, children=['kjuplgh', 'kjurwlx']>, <MoreComments count=1, children=['kjuqc8f']>, <MoreComments count=2, children=['kjutesf']>, <MoreComments count=9, children=['kjuvfhz', 'kjuveja', 'kjuvjjs', '...']>, Comment(id='kjuxq8x'), <MoreComments count=11, children=['kjuxp5b', 'kjuz48y', 'kjuyoov', '...']>, <MoreComments count=4, children=['kjuy16h', 'kjuxz29']>, <MoreComments count=8, children=['kjuynqa', 'kjuyovm', 'kjv2zy2']>, <MoreComments count=2, children=['kjv9wcv']>, <MoreComments count=6, children=['kjvby2c', 'kjvdyjs']>, <MoreComments count=2, children=['kjvcmpu']>, <MoreComments count=1, children=['kjvei2j']>, <MoreComments count=1, children=['kjvgs13']>, <MoreComments count=4, children=['kjvj9y9', 'kjvkpt2', 'kjvit6i']>, <MoreComments count=3, children=['kjvkks8']>, <MoreComments count=3, children=['kjvls2t', 'kjvlqky', 'kjvlwrr']>, <MoreComments count=3, children=['kjvmfwa', 'kjvr8fy', 'kjvmo7a']>, <MoreComments count=1, children=['kjvrqmb']>, <MoreComments count=3, children=['kjvtejg', 'kjvtu09', 'kjvt95n']>, <MoreComments count=1, children=['kjw19wh']>, <MoreComments count=12, children=['kjw15mr', 'kjw15zh']>, <MoreComments count=2, children=['kjw31dw', 'kjw283n']>, Comment(id='kjw3mjq'), <MoreComments count=2, children=['kjw387f', 'kjw439h']>, <MoreComments count=1, children=['kjw93po']>, <MoreComments count=7, children=['kjw8omr', 'kjw8ysy', 'kjw8h1f']>, <MoreComments count=8, children=['kjwdft9', 'kjwe05r', 'kjwdlln', '...']>, <MoreComments count=9, children=['kjwe8w9']>, <MoreComments count=1, children=['kjwi9th']>, <MoreComments count=4, children=['kjwld7l', 'kjwlqur']>, <MoreComments count=6, children=['kjwmdym', 'kjwmn4p']>, Comment(id='kjwm5cv'), <MoreComments count=2, children=['kjwqczp']>, Comment(id='kjwqd16'), <MoreComments count=4, children=['kjwue78']>, <MoreComments count=3, children=['kjwyivh', 'kjx0whp']>, <MoreComments count=1, children=['kjwz90g']>, <MoreComments count=4, children=['kjwz7s0', 'kjwz5se', 'kjx0qej']>, <MoreComments count=6, children=['kjx03yo', 'kjx0ofe', 'kjx0wlj', 'kjx06bo']>, <MoreComments count=2, children=['kjx2igv']>, <MoreComments count=1, children=['kjx5qki']>, <MoreComments count=1, children=['kjx5my7']>, <MoreComments count=1, children=['kjx7bwj']>, <MoreComments count=1, children=['kjxgmov']>, <MoreComments count=1, children=['kjy2a2g']>, <MoreComments count=1, children=['kjy4mua']>, <MoreComments count=10, children=['kjy37o5']>, Comment(id='kjy79nb'), Comment(id='kjy826p'), Comment(id='kjy8ts7'), <MoreComments count=5, children=['kjy71os', 'kjy6k7z', 'kjyb54o', 'kjy9bq6']>, <MoreComments count=1, children=['kjyacu7']>, <MoreComments count=1, children=['kjyd722']>, <MoreComments count=3, children=['kjyja3v', 'kjyigza']>, <MoreComments count=2, children=['kjyiqvl', 'kjykh8z']>, <MoreComments count=9, children=['kjqgdwl', 'kjqh56p', 'kjqgwkf', 'kjqgk42']>, Comment(id='kjrkd5t'), Comment(id='kjrkdom'), <MoreComments count=11, children=['kjrloj1', 'kjrkc6l', 'kjrmknu', '...']>, <MoreComments count=2, children=['kjtwhq2']>, <MoreComments count=2, children=['kjxx1zp', 'kjxr8nx']>, <MoreComments count=3, children=['kjq8iqk', 'kjq94pc', 'kjqd4tk']>, Comment(id='kjulety'), <MoreComments count=4, children=['kjul1qz', 'kjum7n6', 'kjul06s']>, <MoreComments count=4, children=['kjvpc7m', 'kjvoxzs']>, <MoreComments count=3, children=['kjps83p', 'kjpr9lz']>, <MoreComments count=3, children=['kjps2q3', 'kjpsl9d']>, <MoreComments count=1, children=['kjps5ai']>, <MoreComments count=1, children=['kjpsydt']>, <MoreComments count=1, children=['kjpt3um']>, <MoreComments count=2, children=['kjpuhdh', 'kjpvgj4']>, <MoreComments count=1, children=['kjpu61i']>, <MoreComments count=5, children=['kjpu4jr', 'kjpto8e', 'kjpt9j4', 'kjptcub']>, <MoreComments count=5, children=['kjpt5zp', 'kjptswu', 'kjpt6qq', '...']>, <MoreComments count=8, children=['kjpuwth', 'kjpuul2']>, <MoreComments count=7, children=['kjpxsxz', 'kjpwmek', 'kjpwycp', 'kjq1hqd']>, <MoreComments count=2, children=['kjq0sxv']>, <MoreComments count=3, children=['kjq1fsf']>, <MoreComments count=7, children=['kjq422l', 'kjq1nx7', 'kjq1vqq', 'kjq1d6m']>, <MoreComments count=1, children=['kjq39nn']>, <MoreComments count=2, children=['kjq8klz', 'kjq7e11']>, <MoreComments count=3, children=['kjq9dx4', 'kjqbsyi']>, <MoreComments count=3, children=['kjqagx9', 'kjq9nvs']>, <MoreComments count=1, children=['kjq9jif']>, <MoreComments count=2, children=['kjqbxmr', 'kjqb3lr']>, <MoreComments count=7, children=['kjqhqge', 'kjqhi5m', 'kjqhjfz', 'kjqh988']>, <MoreComments count=2, children=['kjqh943']>, <MoreComments count=3, children=['kjqk1m4']>, <MoreComments count=1, children=['kjqki1w']>, <MoreComments count=1, children=['kjqkcgk']>, <MoreComments count=2, children=['kjqmf03', 'kjqofmd']>, <MoreComments count=1, children=['kjqo8rc']>, <MoreComments count=6, children=['kjqnuuc', 'kjqnwg8', 'kjqo5su']>, <MoreComments count=11, children=['kjqo2at', 'kjqo808', 'kjqo6si', 'kjqolmq']>, <MoreComments count=2, children=['kjqpcs4', 'kjqp8l4']>, <MoreComments count=2, children=['kjqpu38', 'kjqpp2q']>, <MoreComments count=2, children=['kjqpzhg', 'kjqq8zy']>, <MoreComments count=9, children=['kjqs8di', 'kjqsliw', 'kjqrovv', '...']>, <MoreComments count=7, children=['kjqrxor', 'kjqs7a4', 'kjqs7nc']>, <MoreComments count=1, children=['kjqtj1i']>, <MoreComments count=3, children=['kjqukqa']>, <MoreComments count=1, children=['kjqxtzc']>, Comment(id='kjqxkwh'), <MoreComments count=5, children=['kjqzyjk', 'kjr04jq', 'kjr086z']>, <MoreComments count=1, children=['kjr1en4']>, <MoreComments count=5, children=['kjr1riu', 'kjr3gor']>, <MoreComments count=5, children=['kjr7zxv', 'kjr78mq', 'kjr72tp', '...']>, <MoreComments count=2, children=['kjr9yio', 'kjr82ad']>, <MoreComments count=2, children=['kjra86b']>, <MoreComments count=3, children=['kjra5ip']>, <MoreComments count=1, children=['kjrbcdz']>, <MoreComments count=2, children=['kjrcczy']>, <MoreComments count=2, children=['kjrdbpk']>, <MoreComments count=2, children=['kjrdoxg', 'kjrgkm9']>, <MoreComments count=2, children=['kjrlkio', 'kjrofi0']>, <MoreComments count=8, children=['kjrnpie', 'kjrq79c', 'kjrnx72', '...']>, <MoreComments count=5, children=['kjrs2hh']>, Comment(id='kjs1jx5'), <MoreComments count=4, children=['kjs0zto', 'kjs0mr6', 'kjs0k7t']>, Comment(id='kjs9wrl'), <MoreComments count=1, children=['kjst2l3']>, <MoreComments count=2, children=['kjsednq', 'kjssz2a']>, <MoreComments count=1, children=['kjsslod']>, <MoreComments count=8, children=['kjsz10s', 'kjszb32', 'kjsz42q', '...']>, <MoreComments count=1, children=['kjt30q8']>, <MoreComments count=1, children=['kjt44db']>, <MoreComments count=2, children=['kjt367a', 'kjt578e']>, <MoreComments count=5, children=['kjt40qj', 'kjt4pmv', 'kjt4kyi', '...']>, <MoreComments count=3, children=['kjt9ys0', 'kjtb79w', 'kjtb3kc']>, <MoreComments count=2, children=['kjtbwur']>, <MoreComments count=3, children=['kjtcjfu', 'kjte7k8']>, <MoreComments count=9, children=['kjthgtl', 'kjthbam', 'kjthitr']>, <MoreComments count=1, children=['kjtisde']>, <MoreComments count=2, children=['kjtnko1']>, <MoreComments count=2, children=['kjtnpw3']>, <MoreComments count=3, children=['kjpoxth', 'kjpowkg']>, <MoreComments count=1, children=['kjq82af']>, <MoreComments count=2, children=['kjq9c9o']>, <MoreComments count=4, children=['kjt3kvi']>, Comment(id='kjqpo5m'), <MoreComments count=2, children=['kjqsioz']>, <MoreComments count=3, children=['kjre6rq']>, <MoreComments count=4, children=['kjumkbr']>, <MoreComments count=1, children=['kjuzmlt']>, <MoreComments count=1, children=['kjuzmul']>, <MoreComments count=1, children=['kjq3m7y']>, Comment(id='kjq8fux'), <MoreComments count=1, children=['kjq8hwe']>, <MoreComments count=1, children=['kjxle4i']>, <MoreComments count=2, children=['kjqc3s2']>, <MoreComments count=1, children=['kjrd4m8']>, <MoreComments count=5, children=['kjrk2pc']>, <MoreComments count=2, children=['kjwlwoq']>, <MoreComments count=1, children=['kjyjvw7']>, <MoreComments count=9, children=['kjxgz0z', 'kjxgy22']>, Comment(id='kjrca3u'), <MoreComments count=2, children=['kjrdfl7']>, <MoreComments count=8, children=['kjrk5zb', 'kjrixpg', 'kjrjgbe', 'kjrmluc']>, <MoreComments count=2, children=['kjtiaaz', 'kjti3gl']>, <MoreComments count=1, children=['kjuy3df']>, <MoreComments count=1, children=['kjw7eq9']>, Comment(id='kjwmb7e'), <MoreComments count=3, children=['kjwmcp4', 'kjwme9e']>, Comment(id='kjwqhrf'), <MoreComments count=1, children=['kjycz1e']>, <MoreComments count=2, children=['kjq8kcv']>, <MoreComments count=1, children=['kjwmrb4']>, <MoreComments count=1, children=['kjwqw75']>]\n"
     ]
    }
   ],
   "source": [
    "subs = [\n",
    "        'wallstreetbets',\n",
    "        'invest',\n",
    "        'finance',\n",
    "        'stocks',\n",
    "        'stockmarket',\n",
    "        'dividends',\n",
    "        'options',\n",
    "        'cryptocurrencies'\n",
    "    ]\n",
    "\n",
    "test_subreddit = reddit.subreddit('wallstreetbets')\n",
    "\n",
    "for submission in test_subreddit.hot(limit=1):\n",
    "    print(submission.title)\n",
    "    print(submission.selftext)\n",
    "    print(submission.comments)\n",
    "    print(submission.comments.list())\n",
    "\n"
   ]
  },
  {
   "cell_type": "code",
   "execution_count": 5,
   "metadata": {},
   "outputs": [
    {
     "name": "stdout",
     "output_type": "stream",
     "text": [
      "Requirement already satisfied: tqdm in /home/apasalic/anaconda/envs/nlp_env/lib/python3.11/site-packages (4.65.0)\n"
     ]
    }
   ],
   "source": [
    "!pip install tqdm"
   ]
  },
  {
   "cell_type": "code",
   "execution_count": 4,
   "metadata": {},
   "outputs": [
    {
     "name": "stderr",
     "output_type": "stream",
     "text": [
      "100%|██████████| 9000000/9000000 [00:00<00:00, 9406734.40it/s]\n"
     ]
    }
   ],
   "source": [
    "from tqdm import tqdm\n",
    " \n",
    " \n",
    "for i in tqdm(range(int(9e6))):\n",
    "    pass"
   ]
  },
  {
   "cell_type": "code",
   "execution_count": 8,
   "metadata": {},
   "outputs": [],
   "source": [
    "import re\n",
    "def preprocess_text(text):\n",
    "    # Remove URLs\n",
    "    text = re.sub(r'http\\S+|www\\S+|https\\S+', '', text, flags=re.MULTILINE)\n",
    "    # Remove special characters\n",
    "    text = re.sub(r'\\W', ' ', text)\n",
    "    # Convert to lowercase\n",
    "    text = text.lower()\n",
    "    return text"
   ]
  },
  {
   "cell_type": "code",
   "execution_count": 11,
   "metadata": {},
   "outputs": [],
   "source": [
    "def retrive_submission_props(reddit, subreddits, limit=1000, time_filter='year', comment_limit=10):\n",
    "    qna_dict = {'questions' : [], 'answers' : [],'tags': []}\n",
    "\n",
    "    for s in subreddits:\n",
    "        subreddit_topic = reddit.subreddit(s)\n",
    "        print(s)\n",
    "        i=0\n",
    "        for submission in tqdm(subreddit_topic.top(limit=limit, time_filter=time_filter), total=limit):\n",
    "            i+=1\n",
    "            if i%50==0:\n",
    "                qna_df=pd.DataFrame(qna_dict)\n",
    "                df = pd.read_csv('qna_df_reddit.csv')\n",
    "                extended_df = pd.concat([df, qna_df], ignore_index=True)\n",
    "                extended_df.to_csv('qna_df_reddit.csv', index=False)\n",
    "\n",
    "                qna_dict = {'questions' : [], 'answers' : [],'tags': []}\n",
    "\n",
    "            for top_level_comment in submission.comments.list()[:comment_limit]:\n",
    "                qna_dict['questions'].append(f'{preprocess_text(submission.title)} {preprocess_text(submission.selftext)}')\n",
    "                qna_dict['answers'].append(preprocess_text(top_level_comment.body))\n",
    "                qna_dict['tags'].append(s)\n",
    "\n",
    "    qna_df=pd.DataFrame(qna_dict)\n",
    "    df = pd.read_csv('qna_df_reddit.csv')\n",
    "    extended_df = pd.concat([df, qna_df], ignore_index=True)\n",
    "    extended_df.to_csv('qna_df_reddit.csv', index=False)\n",
    "    "
   ]
  },
  {
   "cell_type": "code",
   "execution_count": 12,
   "metadata": {},
   "outputs": [
    {
     "name": "stdout",
     "output_type": "stream",
     "text": [
      "wallstreetbets\n"
     ]
    },
    {
     "name": "stderr",
     "output_type": "stream",
     "text": [
      "100%|█████████▉| 997/1000 [39:53<00:07,  2.40s/it]\n"
     ]
    },
    {
     "name": "stdout",
     "output_type": "stream",
     "text": [
      "invest\n"
     ]
    },
    {
     "name": "stderr",
     "output_type": "stream",
     "text": [
      "  4%|▍         | 44/1000 [00:13<04:50,  3.29it/s]\n"
     ]
    },
    {
     "name": "stdout",
     "output_type": "stream",
     "text": [
      "finance\n"
     ]
    },
    {
     "name": "stderr",
     "output_type": "stream",
     "text": [
      " 31%|███       | 311/1000 [03:47<08:24,  1.37it/s]\n"
     ]
    },
    {
     "name": "stdout",
     "output_type": "stream",
     "text": [
      "stocks\n"
     ]
    },
    {
     "name": "stderr",
     "output_type": "stream",
     "text": [
      "100%|██████████| 1000/1000 [27:45<00:00,  1.67s/it]\n"
     ]
    },
    {
     "name": "stdout",
     "output_type": "stream",
     "text": [
      "stockmarket\n"
     ]
    },
    {
     "name": "stderr",
     "output_type": "stream",
     "text": [
      "100%|██████████| 1000/1000 [15:35<00:00,  1.07it/s]\n"
     ]
    },
    {
     "name": "stdout",
     "output_type": "stream",
     "text": [
      "dividends\n"
     ]
    },
    {
     "name": "stderr",
     "output_type": "stream",
     "text": [
      " 89%|████████▉ | 891/1000 [14:53<01:49,  1.00s/it]\n"
     ]
    },
    {
     "ename": "AttributeError",
     "evalue": "'MoreComments' object has no attribute 'body'",
     "output_type": "error",
     "traceback": [
      "\u001b[0;31m---------------------------------------------------------------------------\u001b[0m",
      "\u001b[0;31mAttributeError\u001b[0m                            Traceback (most recent call last)",
      "Cell \u001b[0;32mIn[12], line 1\u001b[0m\n\u001b[0;32m----> 1\u001b[0m \u001b[43mretrive_submission_props\u001b[49m\u001b[43m(\u001b[49m\u001b[43mreddit\u001b[49m\u001b[43m,\u001b[49m\u001b[43m \u001b[49m\u001b[43msubs\u001b[49m\u001b[43m,\u001b[49m\u001b[43m \u001b[49m\u001b[43mlimit\u001b[49m\u001b[38;5;241;43m=\u001b[39;49m\u001b[38;5;241;43m1000\u001b[39;49m\u001b[43m,\u001b[49m\u001b[43m \u001b[49m\u001b[43mtime_filter\u001b[49m\u001b[38;5;241;43m=\u001b[39;49m\u001b[38;5;124;43m'\u001b[39;49m\u001b[38;5;124;43myear\u001b[39;49m\u001b[38;5;124;43m'\u001b[39;49m\u001b[43m,\u001b[49m\u001b[43m \u001b[49m\u001b[43mcomment_limit\u001b[49m\u001b[38;5;241;43m=\u001b[39;49m\u001b[38;5;241;43m10\u001b[39;49m\u001b[43m)\u001b[49m\n",
      "Cell \u001b[0;32mIn[11], line 20\u001b[0m, in \u001b[0;36mretrive_submission_props\u001b[0;34m(reddit, subreddits, limit, time_filter, comment_limit)\u001b[0m\n\u001b[1;32m     18\u001b[0m         \u001b[38;5;28;01mfor\u001b[39;00m top_level_comment \u001b[38;5;129;01min\u001b[39;00m submission\u001b[38;5;241m.\u001b[39mcomments\u001b[38;5;241m.\u001b[39mlist()[:comment_limit]:\n\u001b[1;32m     19\u001b[0m             qna_dict[\u001b[38;5;124m'\u001b[39m\u001b[38;5;124mquestions\u001b[39m\u001b[38;5;124m'\u001b[39m]\u001b[38;5;241m.\u001b[39mappend(\u001b[38;5;124mf\u001b[39m\u001b[38;5;124m'\u001b[39m\u001b[38;5;132;01m{\u001b[39;00mpreprocess_text(submission\u001b[38;5;241m.\u001b[39mtitle)\u001b[38;5;132;01m}\u001b[39;00m\u001b[38;5;124m \u001b[39m\u001b[38;5;132;01m{\u001b[39;00mpreprocess_text(submission\u001b[38;5;241m.\u001b[39mselftext)\u001b[38;5;132;01m}\u001b[39;00m\u001b[38;5;124m'\u001b[39m)\n\u001b[0;32m---> 20\u001b[0m             qna_dict[\u001b[38;5;124m'\u001b[39m\u001b[38;5;124manswers\u001b[39m\u001b[38;5;124m'\u001b[39m]\u001b[38;5;241m.\u001b[39mappend(preprocess_text(\u001b[43mtop_level_comment\u001b[49m\u001b[38;5;241;43m.\u001b[39;49m\u001b[43mbody\u001b[49m))\n\u001b[1;32m     21\u001b[0m             qna_dict[\u001b[38;5;124m'\u001b[39m\u001b[38;5;124mtags\u001b[39m\u001b[38;5;124m'\u001b[39m]\u001b[38;5;241m.\u001b[39mappend(s)\n\u001b[1;32m     23\u001b[0m qna_df\u001b[38;5;241m=\u001b[39mpd\u001b[38;5;241m.\u001b[39mDataFrame(qna_dict)\n",
      "\u001b[0;31mAttributeError\u001b[0m: 'MoreComments' object has no attribute 'body'"
     ]
    }
   ],
   "source": [
    "retrive_submission_props(reddit, subs, limit=1000, time_filter='year', comment_limit=10)"
   ]
  }
 ],
 "metadata": {
  "kernelspec": {
   "display_name": "nlp_env",
   "language": "python",
   "name": "python3"
  },
  "language_info": {
   "codemirror_mode": {
    "name": "ipython",
    "version": 3
   },
   "file_extension": ".py",
   "mimetype": "text/x-python",
   "name": "python",
   "nbconvert_exporter": "python",
   "pygments_lexer": "ipython3",
   "version": "3.11.5"
  }
 },
 "nbformat": 4,
 "nbformat_minor": 2
}
